{
 "cells": [
  {
   "cell_type": "code",
   "execution_count": 1,
   "id": "135ccef7-bb36-4f1f-847b-a8938dc0f580",
   "metadata": {},
   "outputs": [],
   "source": [
    "from allfunc import func"
   ]
  },
  {
   "cell_type": "code",
   "execution_count": 2,
   "id": "66419a6c-1233-4f56-9127-2bd587ca4acf",
   "metadata": {},
   "outputs": [
    {
     "name": "stdout",
     "output_type": "stream",
     "text": [
      "Sub-fields in AI are:\n",
      "Machine Learning\n",
      "Neural Networks\n",
      "Vision Robotics\n",
      "Speech Processing\n",
      "Natural Language Processing\n"
     ]
    }
   ],
   "source": [
    "func.displayai()"
   ]
  },
  {
   "cell_type": "code",
   "execution_count": 3,
   "id": "68e357f8-d81d-4345-81b1-28e00cef7c09",
   "metadata": {},
   "outputs": [
    {
     "name": "stdin",
     "output_type": "stream",
     "text": [
      "enter the number: 8765432\n"
     ]
    },
    {
     "name": "stdout",
     "output_type": "stream",
     "text": [
      "number is even\n"
     ]
    }
   ],
   "source": [
    "func.oddreven() \n"
   ]
  },
  {
   "cell_type": "code",
   "execution_count": 5,
   "id": "4cd9461b-4612-420d-ab27-c4a23cbcb910",
   "metadata": {},
   "outputs": [
    {
     "name": "stdin",
     "output_type": "stream",
     "text": [
      "enter your gender male\n",
      "enter your age 12\n"
     ]
    },
    {
     "name": "stdout",
     "output_type": "stream",
     "text": [
      "not eligible for marriage\n"
     ]
    }
   ],
   "source": [
    "func.eligible()"
   ]
  },
  {
   "cell_type": "code",
   "execution_count": 7,
   "id": "fedb1367-dabe-498b-bc96-a2ecc78e5195",
   "metadata": {},
   "outputs": [
    {
     "name": "stdin",
     "output_type": "stream",
     "text": [
      "height: 34\n",
      "breadth: 24\n"
     ]
    },
    {
     "name": "stdout",
     "output_type": "stream",
     "text": [
      "Area formula: (Height*Breadth)/2\n",
      "area of a triangle: 408.0\n"
     ]
    },
    {
     "name": "stdin",
     "output_type": "stream",
     "text": [
      "height1: 2\n",
      "height2: 4\n",
      "breadth1: 4\n"
     ]
    },
    {
     "name": "stdout",
     "output_type": "stream",
     "text": [
      "Perimeter formula: Height1+Height2+Breadth\n",
      "perimeter of triangle: 10\n"
     ]
    }
   ],
   "source": [
    "func.peri()"
   ]
  },
  {
   "cell_type": "code",
   "execution_count": 4,
   "id": "48a53840-8a1b-4326-8e97-2bd8038989ec",
   "metadata": {},
   "outputs": [
    {
     "name": "stdin",
     "output_type": "stream",
     "text": [
      "enter your gender malle\n",
      "enter your age 12\n"
     ]
    },
    {
     "name": "stdout",
     "output_type": "stream",
     "text": [
      "not eligible for marriage\n"
     ]
    }
   ],
   "source": [
    "func.eligible()"
   ]
  },
  {
   "cell_type": "code",
   "execution_count": 8,
   "id": "e2555a84-9bae-4ac8-98f0-4b3c14ba35d6",
   "metadata": {},
   "outputs": [
    {
     "name": "stdin",
     "output_type": "stream",
     "text": [
      "subject 1 : 98\n",
      "subject 2 : 98\n",
      "subject 3 : 97\n",
      "subject 4 : 98\n",
      "subject 5 : 100\n"
     ]
    },
    {
     "name": "stdout",
     "output_type": "stream",
     "text": [
      "total 491\n",
      "your percentage is: 98.2\n"
     ]
    }
   ],
   "source": [
    "func.percentage()"
   ]
  },
  {
   "cell_type": "code",
   "execution_count": null,
   "id": "717b618b-da9b-4d52-94a5-f9bdeff45809",
   "metadata": {},
   "outputs": [],
   "source": []
  }
 ],
 "metadata": {
  "kernelspec": {
   "display_name": "Python 3 (ipykernel)",
   "language": "python",
   "name": "python3"
  },
  "language_info": {
   "codemirror_mode": {
    "name": "ipython",
    "version": 3
   },
   "file_extension": ".py",
   "mimetype": "text/x-python",
   "name": "python",
   "nbconvert_exporter": "python",
   "pygments_lexer": "ipython3",
   "version": "3.11.5"
  }
 },
 "nbformat": 4,
 "nbformat_minor": 5
}
