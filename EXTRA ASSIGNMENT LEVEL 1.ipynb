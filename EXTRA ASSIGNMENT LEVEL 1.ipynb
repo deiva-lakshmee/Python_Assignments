{
 "cells": [
  {
   "cell_type": "code",
   "execution_count": 1,
   "id": "c223a727-84d4-42a1-b8fa-93e746ac7d53",
   "metadata": {},
   "outputs": [
    {
     "name": "stdout",
     "output_type": "stream",
     "text": [
      "HOPE AI\n"
     ]
    }
   ],
   "source": [
    "print(\"HOPE AI\")"
   ]
  },
  {
   "cell_type": "code",
   "execution_count": 4,
   "id": "bea2b419-fe94-4512-b49d-75e2335a45bd",
   "metadata": {},
   "outputs": [
    {
     "name": "stdin",
     "output_type": "stream",
     "text": [
      "Enter your institute name?: HOPE AI\n"
     ]
    }
   ],
   "source": [
    "a=str(input(\"Enter your institute name?:\"))\n"
   ]
  },
  {
   "cell_type": "markdown",
   "id": "1f653c56-31b5-46fa-b6cd-0bd284ba83e2",
   "metadata": {},
   "source": []
  },
  {
   "cell_type": "code",
   "execution_count": 5,
   "id": "0994f5c3-7394-4c54-b254-342ce8e41f08",
   "metadata": {},
   "outputs": [
    {
     "name": "stdin",
     "output_type": "stream",
     "text": [
      "enter your name: raj\n",
      "enter your age: 15\n",
      "enter your school: guru school\n",
      "enter your degree: B.E CSE\n"
     ]
    }
   ],
   "source": [
    "name=str(input(\"enter your name:\"))\n",
    "age=int(input(\"enter your age:\"))\n",
    "school=str(input(\"enter your school:\"))\n",
    "degree=str(input(\"enter your degree:\"))"
   ]
  },
  {
   "cell_type": "code",
   "execution_count": 14,
   "id": "3a201ee4-0d7f-4e5b-ae0e-adc3ec77c190",
   "metadata": {},
   "outputs": [
    {
     "name": "stdout",
     "output_type": "stream",
     "text": [
      "a = 43\n",
      "b = 34\n",
      "sub= 9\n"
     ]
    }
   ],
   "source": [
    "num1=43\n",
    "num2=34\n",
    "print('a =',num1) \n",
    "print('b =',num2)\n",
    "print(\"sub=\",num1-num2)"
   ]
  },
  {
   "cell_type": "code",
   "execution_count": 15,
   "id": "73c50b45-0901-4428-acf5-af3b512d2218",
   "metadata": {},
   "outputs": [
    {
     "name": "stdout",
     "output_type": "stream",
     "text": [
      "a= 63\n",
      "b= 97\n",
      "mul= 6111\n"
     ]
    }
   ],
   "source": [
    "num1=63\n",
    "num2=97\n",
    "print(\"a=\",num1)\n",
    "print(\"b=\",num2)\n",
    "print(\"mul=\",num1*num2)"
   ]
  },
  {
   "cell_type": "code",
   "execution_count": 17,
   "id": "28fb273e-c8ab-4c64-b528-27345b8e5d83",
   "metadata": {},
   "outputs": [
    {
     "name": "stdout",
     "output_type": "stream",
     "text": [
      "a= 76\n",
      "b= 31\n",
      "float div= 2.4516129032258065\n"
     ]
    }
   ],
   "source": [
    "num1=76\n",
    "num2=31\n",
    "print(\"a=\",num1)\n",
    "print(\"b=\",num2)\n",
    "print(\"float div=\",num1/num2)"
   ]
  },
  {
   "cell_type": "code",
   "execution_count": 18,
   "id": "969965f9-c9c8-4fd8-86c2-cf08cd50ceff",
   "metadata": {},
   "outputs": [
    {
     "name": "stdout",
     "output_type": "stream",
     "text": [
      "a= 76\n",
      "b= 31\n",
      "floor div= 2\n"
     ]
    }
   ],
   "source": [
    "num1=76\n",
    "num2=31\n",
    "print(\"a=\",num1)\n",
    "print(\"b=\",num2)\n",
    "print(\"floor div=\",num1//num2)"
   ]
  },
  {
   "cell_type": "code",
   "execution_count": 20,
   "id": "92abfb2c-0c5d-459b-8313-2be755f835c3",
   "metadata": {},
   "outputs": [
    {
     "name": "stdout",
     "output_type": "stream",
     "text": [
      "a= 76\n",
      "b= 31\n",
      "modulo= 14\n"
     ]
    }
   ],
   "source": [
    "num1=76\n",
    "num2=31\n",
    "print(\"a=\",num1)\n",
    "print(\"b=\",num2)\n",
    "print(\"modulo=\",num1%num2)"
   ]
  },
  {
   "cell_type": "code",
   "execution_count": 21,
   "id": "fc2d767b-2e5c-42ad-af0f-f65b55e631e9",
   "metadata": {},
   "outputs": [
    {
     "name": "stdout",
     "output_type": "stream",
     "text": [
      "a= 4\n",
      "b= 4\n",
      "power 256\n"
     ]
    }
   ],
   "source": [
    "num1=4\n",
    "num2=4\n",
    "print(\"a=\",num1)\n",
    "print(\"b=\",num2)\n",
    "print(\"power\",num1**num2)\n"
   ]
  },
  {
   "cell_type": "code",
   "execution_count": null,
   "id": "cd862e1f-ccc3-4208-986c-ab86e2eec9c8",
   "metadata": {},
   "outputs": [],
   "source": []
  }
 ],
 "metadata": {
  "kernelspec": {
   "display_name": "Python 3 (ipykernel)",
   "language": "python",
   "name": "python3"
  },
  "language_info": {
   "codemirror_mode": {
    "name": "ipython",
    "version": 3
   },
   "file_extension": ".py",
   "mimetype": "text/x-python",
   "name": "python",
   "nbconvert_exporter": "python",
   "pygments_lexer": "ipython3",
   "version": "3.11.5"
  }
 },
 "nbformat": 4,
 "nbformat_minor": 5
}
