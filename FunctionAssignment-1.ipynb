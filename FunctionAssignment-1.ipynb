{
 "cells": [
  {
   "cell_type": "code",
   "execution_count": 60,
   "id": "9d650c66-9441-48d6-9b82-6303a63d2cb0",
   "metadata": {},
   "outputs": [
    {
     "name": "stdout",
     "output_type": "stream",
     "text": [
      "sub-fields in AI are:\n",
      "Machine Learning\n",
      "Neural Networks\n",
      "Vision Robotics\n",
      "Speech Processing\n",
      "Natural Language Processing\n"
     ]
    }
   ],
   "source": [
    "list=['Machine Learning','Neural Networks','Vision Robotics','Speech Processing','Natural Language Processing']\n",
    "print('sub-fields in AI are:')\n",
    "def displayai():\n",
    "    for elements in list:\n",
    "        print(elements)\n",
    "displayai()        \n",
    "\n"
   ]
  },
  {
   "cell_type": "code",
   "execution_count": 24,
   "id": "5ce84431-94b4-45b6-a550-b0b7f2d5d7d5",
   "metadata": {},
   "outputs": [
    {
     "name": "stdin",
     "output_type": "stream",
     "text": [
      "enter the number: 52452\n"
     ]
    },
    {
     "name": "stdout",
     "output_type": "stream",
     "text": [
      "number is even\n"
     ]
    }
   ],
   "source": [
    "def oddreven():\n",
    "    num=int(input(\"enter the number:\")) \n",
    "    if num%2==0:\n",
    "        print('number is even')\n",
    "       \n",
    "    else:\n",
    "        print(\"number is odd\")\n",
    "oddreven() \n",
    "\n",
    "\n",
    "        \n",
    "       \n",
    "    "
   ]
  },
  {
   "cell_type": "code",
   "execution_count": 40,
   "id": "fb8f12ae-654f-4e28-b1e3-b1c121fa33b2",
   "metadata": {},
   "outputs": [
    {
     "name": "stdin",
     "output_type": "stream",
     "text": [
      "enter your gender male\n",
      "enter your age 20\n"
     ]
    },
    {
     "name": "stdout",
     "output_type": "stream",
     "text": [
      "not eligible for marriage\n"
     ]
    }
   ],
   "source": [
    "def Eligible():\n",
    "    gender=str(input(\"enter your gender\"))\n",
    "    age=int(input(\"enter your age\"))\n",
    "    if gender.lower()=='male' and age>=21:\n",
    "            print(\"Eligible for marriage\")\n",
    "    elif gender.lower()=='female' and age>=18:\n",
    "            print(\"Eligible for marriage\")\n",
    "    else:\n",
    "        print(\"not eligible for marriage\")\n",
    "Eligible()  \n"
   ]
  },
  {
   "cell_type": "code",
   "execution_count": 49,
   "id": "a97706cb-729e-4bbc-a3da-750d1744e226",
   "metadata": {},
   "outputs": [
    {
     "name": "stdin",
     "output_type": "stream",
     "text": [
      "subject 1 : 98\n",
      "subject 2 : 87\n",
      "subject 3 : 95\n",
      "subject 4 : 95\n",
      "subject 5 : 93\n"
     ]
    },
    {
     "name": "stdout",
     "output_type": "stream",
     "text": [
      "total 468\n",
      "your percentage is: 93.60000000000001\n"
     ]
    }
   ],
   "source": [
    "def perc():\n",
    "    sub1=int(input(\"subject 1 :\"))\n",
    "    sub2=int(input(\"subject 2 :\"))\n",
    "    sub3=int(input(\"subject 3 :\"))\n",
    "    sub4=int(input(\"subject 4 :\"))\n",
    "    sub5=int(input(\"subject 5 :\"))\n",
    "    print(\"total\",sub1+sub2+sub3+sub4+sub5)\n",
    "    perce=((sub1+sub2+sub3+sub4+sub5)/500)*100\n",
    "    print(\"your percentage is:\",perce)\n",
    "perc()    \n",
    "    \n",
    "    \n",
    "    \n",
    "    "
   ]
  },
  {
   "cell_type": "code",
   "execution_count": 59,
   "id": "5069808d-775d-48a8-871d-ee03fe4e8800",
   "metadata": {},
   "outputs": [
    {
     "name": "stdin",
     "output_type": "stream",
     "text": [
      "height: 32\n",
      "breadth: 34\n"
     ]
    },
    {
     "name": "stdout",
     "output_type": "stream",
     "text": [
      "Area formula: (Height*Breadth)/2\n",
      "area of a triangle: 544.0\n"
     ]
    },
    {
     "name": "stdin",
     "output_type": "stream",
     "text": [
      "height1: 2\n",
      "height2: 4\n",
      "breadth1: 4\n"
     ]
    },
    {
     "name": "stdout",
     "output_type": "stream",
     "text": [
      "Perimeter formula: Height1+Height2+Breadth\n",
      "perimeter of triangle: 10\n"
     ]
    }
   ],
   "source": [
    "def area_peri():\n",
    "    h=int(input(\"height:\"))\n",
    "    b=int(input(\"breadth:\"))\n",
    "    print('Area formula: (Height*Breadth)/2')\n",
    "    area=(h*b)/2\n",
    "    print('area of a triangle:',area)\n",
    "    h1=int(input(\"height1:\"))  \n",
    "    h2=int(input(\"height2:\"))  \n",
    "    b1=int(input(\"breadth1:\"))\n",
    "    print(\"Perimeter formula: Height1+Height2+Breadth\")\n",
    "    perimeter=h1+h2+b1\n",
    "    print(\"perimeter of triangle:\",perimeter)\n",
    "area_peri()    \n",
    "   \n",
    "    \n",
    "          \n",
    "   "
   ]
  },
  {
   "cell_type": "code",
   "execution_count": null,
   "id": "4a303b8d-e331-46cc-8862-c184c1d41b4b",
   "metadata": {},
   "outputs": [],
   "source": []
  }
 ],
 "metadata": {
  "kernelspec": {
   "display_name": "Python 3 (ipykernel)",
   "language": "python",
   "name": "python3"
  },
  "language_info": {
   "codemirror_mode": {
    "name": "ipython",
    "version": 3
   },
   "file_extension": ".py",
   "mimetype": "text/x-python",
   "name": "python",
   "nbconvert_exporter": "python",
   "pygments_lexer": "ipython3",
   "version": "3.11.5"
  }
 },
 "nbformat": 4,
 "nbformat_minor": 5
}
