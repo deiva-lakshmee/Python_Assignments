{
 "cells": [
  {
   "cell_type": "code",
   "execution_count": 4,
   "id": "0d2e89db-09b6-4e35-be6c-d0841ab0a23f",
   "metadata": {},
   "outputs": [
    {
     "name": "stdout",
     "output_type": "stream",
     "text": [
      "Welcome to Assignment-1\n"
     ]
    }
   ],
   "source": [
    "print(\"Welcome to Assignment-1\")"
   ]
  },
  {
   "cell_type": "code",
   "execution_count": 2,
   "id": "7a017fd4-30b3-491e-b0eb-d487e2f23a48",
   "metadata": {},
   "outputs": [
    {
     "name": "stdout",
     "output_type": "stream",
     "text": [
      "num 1: 10\n",
      "num2: 30\n",
      "add= 40\n"
     ]
    }
   ],
   "source": [
    "n1=10\n",
    "n2=30\n",
    "print(\"num 1:\",n1)\n",
    "print(\"num2:\",n2)\n",
    "print(\"add=\",n1+n2)\n"
   ]
  },
  {
   "cell_type": "code",
   "execution_count": 10,
   "id": "6ee657ce-1daf-4cf6-b428-4187788ef810",
   "metadata": {},
   "outputs": [
    {
     "name": "stdin",
     "output_type": "stream",
     "text": [
      "enter your bmi: 34\n"
     ]
    },
    {
     "name": "stdout",
     "output_type": "stream",
     "text": [
      "very overweight\n"
     ]
    }
   ],
   "source": [
    "bmi=int(input(\"enter your bmi:\"))\n",
    "if bmi<18:\n",
    "    print(\"underweight\")\n",
    "elif bmi in range(18,26):\n",
    "    print(\"normal range\")\n",
    "elif bmi in range(25,30):\n",
    "    print(\"overweight\")\n",
    "else:\n",
    "    print(\"very overweight\")\n",
    "    "
   ]
  },
  {
   "cell_type": "code",
   "execution_count": null,
   "id": "0767f722-421e-4e81-ad60-da5ba957341e",
   "metadata": {},
   "outputs": [],
   "source": []
  }
 ],
 "metadata": {
  "kernelspec": {
   "display_name": "Python 3 (ipykernel)",
   "language": "python",
   "name": "python3"
  },
  "language_info": {
   "codemirror_mode": {
    "name": "ipython",
    "version": 3
   },
   "file_extension": ".py",
   "mimetype": "text/x-python",
   "name": "python",
   "nbconvert_exporter": "python",
   "pygments_lexer": "ipython3",
   "version": "3.11.5"
  }
 },
 "nbformat": 4,
 "nbformat_minor": 5
}
