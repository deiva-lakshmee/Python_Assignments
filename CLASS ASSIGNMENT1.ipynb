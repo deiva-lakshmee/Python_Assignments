{
 "cells": [
  {
   "cell_type": "code",
   "execution_count": 11,
   "id": "625a313d-1e92-4522-864c-d14c4202e78c",
   "metadata": {},
   "outputs": [
    {
     "name": "stdout",
     "output_type": "stream",
     "text": [
      "sub-fields in AI are:\n",
      "Machine Learning\n",
      "Neural Networks\n",
      "Vision Robotics\n",
      "Speech Processing\n",
      "Natural Language Processing\n"
     ]
    }
   ],
   "source": [
    "class subfield():\n",
    "   def displayai():\n",
    "     list=['Machine Learning','Neural Networks','Vision Robotics','Speech Processing','Natural Language Processing']\n",
    "     print('Sub-fields in AI are:')  \n",
    "     for i in list:\n",
    "        print(i) \n",
    "subfield.displayai()\n"
   ]
  },
  {
   "cell_type": "code",
   "execution_count": 13,
   "id": "6b0999a2-660c-43b2-8655-cccda7fe944a",
   "metadata": {},
   "outputs": [
    {
     "name": "stdin",
     "output_type": "stream",
     "text": [
      "enter the number: 52452\n"
     ]
    },
    {
     "name": "stdout",
     "output_type": "stream",
     "text": [
      "number is even\n"
     ]
    }
   ],
   "source": [
    "class calc():\n",
    "   def oddreven():\n",
    "      num=int(input(\"enter the number:\")) \n",
    "      if num%2==0:\n",
    "        print('number is even')\n",
    "       \n",
    "      else:\n",
    "        print(\"number is odd\")\n",
    "calc.oddreven()"
   ]
  },
  {
   "cell_type": "code",
   "execution_count": 16,
   "id": "e8cfe266-4c43-423e-b611-e463195b82e1",
   "metadata": {},
   "outputs": [
    {
     "name": "stdin",
     "output_type": "stream",
     "text": [
      "enter your gender male\n",
      "enter your age 20\n"
     ]
    },
    {
     "name": "stdout",
     "output_type": "stream",
     "text": [
      "not eligible for marriage\n"
     ]
    }
   ],
   "source": [
    "class marriage():\n",
    "   def eligible():\n",
    "    gender=str(input(\"enter your gender\"))\n",
    "    age=int(input(\"enter your age\"))\n",
    "    if gender.lower()=='male' and age>=21:\n",
    "            print(\"Eligible for marriage\")\n",
    "    elif gender.lower()=='female' and age>=18:\n",
    "            print(\"Eligible for marriage\")\n",
    "    else:\n",
    "        print(\"not eligible for marriage\")\n",
    "marriage.eligible()        "
   ]
  },
  {
   "cell_type": "code",
   "execution_count": 18,
   "id": "4b66bea3-89c4-4a0e-a520-15fc63526961",
   "metadata": {},
   "outputs": [
    {
     "name": "stdin",
     "output_type": "stream",
     "text": [
      "subject 1 : 98\n",
      "subject 2 : 87\n",
      "subject 3 : 95\n",
      "subject 4 : 95\n",
      "subject 5 : 93\n"
     ]
    },
    {
     "name": "stdout",
     "output_type": "stream",
     "text": [
      "total 468\n",
      "your percentage is: 93.60000000000001\n"
     ]
    }
   ],
   "source": [
    "class findpercentage():\n",
    "    def percentage():\n",
    "       sub1=int(input(\"subject 1 :\"))\n",
    "       sub2=int(input(\"subject 2 :\"))\n",
    "       sub3=int(input(\"subject 3 :\"))\n",
    "       sub4=int(input(\"subject 4 :\"))\n",
    "       sub5=int(input(\"subject 5 :\"))\n",
    "       print(\"total\",sub1+sub2+sub3+sub4+sub5)\n",
    "       perce=((sub1+sub2+sub3+sub4+sub5)/500)*100\n",
    "       print(\"your percentage is:\",perce) \n",
    "        \n",
    "findpercentage.percentage()     "
   ]
  },
  {
   "cell_type": "code",
   "execution_count": 19,
   "id": "4e777b4e-7609-49a7-a849-4b10297a0b70",
   "metadata": {},
   "outputs": [
    {
     "name": "stdin",
     "output_type": "stream",
     "text": [
      "height: 32\n",
      "breadth: 34\n"
     ]
    },
    {
     "name": "stdout",
     "output_type": "stream",
     "text": [
      "Area formula: (Height*Breadth)/2\n",
      "area of a triangle: 544.0\n"
     ]
    },
    {
     "name": "stdin",
     "output_type": "stream",
     "text": [
      "height1: 2\n",
      "height2: 4\n",
      "breadth1: 4\n"
     ]
    },
    {
     "name": "stdout",
     "output_type": "stream",
     "text": [
      "Perimeter formula: Height1+Height2+Breadth\n",
      "perimeter of triangle: 10\n"
     ]
    }
   ],
   "source": [
    "class areaperi():\n",
    "    def peri():\n",
    "        h=int(input(\"height:\"))\n",
    "        b=int(input(\"breadth:\"))\n",
    "        print('Area formula: (Height*Breadth)/2')\n",
    "        area=(h*b)/2\n",
    "        print('area of a triangle:',area)\n",
    "        h1=int(input(\"height1:\"))  \n",
    "        h2=int(input(\"height2:\"))  \n",
    "        b1=int(input(\"breadth1:\"))\n",
    "        print(\"Perimeter formula: Height1+Height2+Breadth\")\n",
    "        perimeter=h1+h2+b1\n",
    "        print(\"perimeter of triangle:\",perimeter)\n",
    "areaperi.peri()        \n",
    "     \n",
    "    "
   ]
  },
  {
   "cell_type": "code",
   "execution_count": null,
   "id": "89777d13-4657-4377-9787-c89d028cb51b",
   "metadata": {},
   "outputs": [],
   "source": []
  }
 ],
 "metadata": {
  "kernelspec": {
   "display_name": "Python 3 (ipykernel)",
   "language": "python",
   "name": "python3"
  },
  "language_info": {
   "codemirror_mode": {
    "name": "ipython",
    "version": 3
   },
   "file_extension": ".py",
   "mimetype": "text/x-python",
   "name": "python",
   "nbconvert_exporter": "python",
   "pygments_lexer": "ipython3",
   "version": "3.11.5"
  }
 },
 "nbformat": 4,
 "nbformat_minor": 5
}
